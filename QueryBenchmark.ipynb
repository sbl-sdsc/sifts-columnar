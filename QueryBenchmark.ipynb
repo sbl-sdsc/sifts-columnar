{
 "cells": [
  {
   "cell_type": "markdown",
   "metadata": {},
   "source": [
    "# Query Benchmark\n",
    "This benchmark demostrates the efficiency of using columnar data formats. Here we run 4 benchmarks on the complete PDB to Uniprot residue-level mapping with a total of 105,594,955 records as of July 28, 2018.\n",
    "\n",
    "1. Count number of records\n",
    "2. Run a query\n",
    "3. Join datasets\n",
    "4. Convert to a Pandas dataframe"
   ]
  },
  {
   "cell_type": "code",
   "execution_count": 1,
   "metadata": {},
   "outputs": [],
   "source": [
    "from pyspark.sql import SparkSession\n",
    "import warnings\n",
    "warnings.filterwarnings(\"ignore\", message=\"numpy.dtype size changed, may indicate binary incompatibility. Expected 96, got 88\") # some pandas - numpy version issue"
   ]
  },
  {
   "cell_type": "code",
   "execution_count": 2,
   "metadata": {},
   "outputs": [
    {
     "name": "stdout",
     "output_type": "stream",
     "text": [
      "CPU times: user 25.3 ms, sys: 16.1 ms, total: 41.4 ms\n",
      "Wall time: 3.6 s\n"
     ]
    }
   ],
   "source": [
    "%%time\n",
    "spark = SparkSession.builder.master(\"local[4]\").appName(\"Example\").getOrCreate()\n",
    "spark.conf.set(\"spark.sql.orc.impl\", \"native\")"
   ]
  },
  {
   "cell_type": "markdown",
   "metadata": {},
   "source": [
    "# 1. Count number of records\n",
    "Read PDB to UniProt mapping file in the ORC columnar data format."
   ]
  },
  {
   "cell_type": "code",
   "execution_count": 3,
   "metadata": {
    "scrolled": true
   },
   "outputs": [
    {
     "name": "stdout",
     "output_type": "stream",
     "text": [
      "total number of records: 105594955\n",
      "CPU times: user 3.26 ms, sys: 2.07 ms, total: 5.33 ms\n",
      "Wall time: 4.1 s\n"
     ]
    }
   ],
   "source": [
    "%%time\n",
    "# the dataset in ORC format\n",
    "ds = spark.read.orc(\"./data/pdb2uniprot_residues.orc.lzo\")\n",
    "# the dataset in Parquet format\n",
    "#ds = spark.read.parquet(\"./data/pdb2uniprot_residues.parquet.gzip\")\n",
    "\n",
    "print(\"total number of records: \" + str(ds.count()))"
   ]
  },
  {
   "cell_type": "markdown",
   "metadata": {},
   "source": [
    "# 2. Run a query\n",
    "## Find Mitogen-activated protein kinase 14\n",
    "Here we run a query for PDB - UniProt mappings for UniProt ID Q16539 (MK14_HUMAN) and retrieve their residue-level mappings for residues that are observed in the PDB structure (e.g., pdbResNum is not null)."
   ]
  },
  {
   "cell_type": "code",
   "execution_count": 4,
   "metadata": {
    "scrolled": true
   },
   "outputs": [
    {
     "name": "stdout",
     "output_type": "stream",
     "text": [
      "Number of distinct chains: 243\n",
      "Number of residue mappings: 82277\n",
      "+----------------+---------+---------+---------+----------+\n",
      "|structureChainId|pdbResNum|pdbSeqNum|uniprotId|uniprotNum|\n",
      "+----------------+---------+---------+---------+----------+\n",
      "|          2ZB1.A|        4|        4|   Q16539|         4|\n",
      "|          2ZB1.A|        5|        5|   Q16539|         5|\n",
      "|          2ZB1.A|        6|        6|   Q16539|         6|\n",
      "|          2ZB1.A|        7|        7|   Q16539|         7|\n",
      "|          2ZB1.A|        8|        8|   Q16539|         8|\n",
      "|          2ZB1.A|        9|        9|   Q16539|         9|\n",
      "|          2ZB1.A|       10|       10|   Q16539|        10|\n",
      "|          2ZB1.A|       11|       11|   Q16539|        11|\n",
      "|          2ZB1.A|       12|       12|   Q16539|        12|\n",
      "|          2ZB1.A|       13|       13|   Q16539|        13|\n",
      "|          2ZB1.A|       14|       14|   Q16539|        14|\n",
      "|          2ZB1.A|       15|       15|   Q16539|        15|\n",
      "|          2ZB1.A|       16|       16|   Q16539|        16|\n",
      "|          2ZB1.A|       17|       17|   Q16539|        17|\n",
      "|          2ZB1.A|       18|       18|   Q16539|        18|\n",
      "|          2ZB1.A|       19|       19|   Q16539|        19|\n",
      "|          2ZB1.A|       20|       20|   Q16539|        20|\n",
      "|          2ZB1.A|       21|       21|   Q16539|        21|\n",
      "|          2ZB1.A|       22|       22|   Q16539|        22|\n",
      "|          2ZB1.A|       23|       23|   Q16539|        23|\n",
      "+----------------+---------+---------+---------+----------+\n",
      "only showing top 20 rows\n",
      "\n",
      "CPU times: user 5.4 ms, sys: 1.75 ms, total: 7.16 ms\n",
      "Wall time: 11.9 s\n"
     ]
    }
   ],
   "source": [
    "%%time\n",
    "mk14_human = ds.filter(\"uniprotId == 'Q16539' AND pdbResNum != 'null'\")\n",
    "\n",
    "print(\"Number of distinct chains: \" + str(mk14_human.select(\"structureChainId\").distinct().count()))\n",
    "\n",
    "print(\"Number of residue mappings: \" + str(mk14_human.count()))\n",
    "mk14_human.show()"
   ]
  },
  {
   "cell_type": "markdown",
   "metadata": {},
   "source": [
    "# 3. Join operation"
   ]
  },
  {
   "cell_type": "code",
   "execution_count": 5,
   "metadata": {},
   "outputs": [
    {
     "name": "stdout",
     "output_type": "stream",
     "text": [
      "Sample size: 10268\n",
      "+-------+\n",
      "|     id|\n",
      "+-------+\n",
      "| 5JPQ.h|\n",
      "| 3AL5.C|\n",
      "| 4MY9.D|\n",
      "| 4FZB.K|\n",
      "| 1YT5.A|\n",
      "| 1E5Q.A|\n",
      "| 5TU9.A|\n",
      "| 2VKZ.A|\n",
      "| 1YNJ.J|\n",
      "| 2M89.B|\n",
      "| 5LUF.V|\n",
      "| 5TAN.E|\n",
      "|4U4N.D9|\n",
      "|4U4N.n5|\n",
      "| 5WZT.A|\n",
      "| 5JJ1.J|\n",
      "| 1JRK.A|\n",
      "| 5UTS.G|\n",
      "| 3INN.C|\n",
      "| 4FC4.E|\n",
      "+-------+\n",
      "only showing top 20 rows\n",
      "\n"
     ]
    }
   ],
   "source": [
    "# create a random dataset of ~10,000 chains\n",
    "sample = ds.sample(withReplacement=False, fraction=0.0001, seed=123).select(\"structureChainId\").withColumnRenamed(\"structureChainId\", \"id\").distinct()\n",
    "\n",
    "print(\"Sample size: \" + str(sample.count()))\n",
    "sample.show()"
   ]
  },
  {
   "cell_type": "markdown",
   "metadata": {},
   "source": [
    "Now we use this sample dataset to run a database inner join for ~10,000 records"
   ]
  },
  {
   "cell_type": "code",
   "execution_count": 6,
   "metadata": {},
   "outputs": [
    {
     "name": "stdout",
     "output_type": "stream",
     "text": [
      "Number of residue in subset: 4192893\n",
      "+----------------+---------+---------+---------+----------+\n",
      "|structureChainId|pdbResNum|pdbSeqNum|uniprotId|uniprotNum|\n",
      "+----------------+---------+---------+---------+----------+\n",
      "|          1F1E.A|     null|        1|   O93641|         1|\n",
      "|          1F1E.A|     null|        2|   O93641|         2|\n",
      "|          1F1E.A|     null|        3|   O93641|         3|\n",
      "|          1F1E.A|        4|        4|   O93641|         4|\n",
      "|          1F1E.A|        5|        5|   O93641|         5|\n",
      "|          1F1E.A|        6|        6|   O93641|         6|\n",
      "|          1F1E.A|        7|        7|   O93641|         7|\n",
      "|          1F1E.A|        8|        8|   O93641|         8|\n",
      "|          1F1E.A|        9|        9|   O93641|         9|\n",
      "|          1F1E.A|       10|       10|   O93641|        10|\n",
      "|          1F1E.A|       11|       11|   O93641|        11|\n",
      "|          1F1E.A|       12|       12|   O93641|        12|\n",
      "|          1F1E.A|       13|       13|   O93641|        13|\n",
      "|          1F1E.A|       14|       14|   O93641|        14|\n",
      "|          1F1E.A|       15|       15|   O93641|        15|\n",
      "|          1F1E.A|       16|       16|   O93641|        16|\n",
      "|          1F1E.A|       17|       17|   O93641|        17|\n",
      "|          1F1E.A|       18|       18|   O93641|        18|\n",
      "|          1F1E.A|       19|       19|   O93641|        19|\n",
      "|          1F1E.A|       20|       20|   O93641|        20|\n",
      "+----------------+---------+---------+---------+----------+\n",
      "only showing top 20 rows\n",
      "\n",
      "CPU times: user 6.09 ms, sys: 2.94 ms, total: 9.03 ms\n",
      "Wall time: 12 s\n"
     ]
    }
   ],
   "source": [
    "%%time\n",
    "subset = ds.join(sample, ds.structureChainId == sample.id).drop(sample.id)\n",
    "\n",
    "print(\"Number of residue in subset: \" + str(subset.count()))\n",
    "subset.show()"
   ]
  },
  {
   "cell_type": "markdown",
   "metadata": {},
   "source": [
    "# 4. Convert from Spark to Pandas dataframe"
   ]
  },
  {
   "cell_type": "code",
   "execution_count": 7,
   "metadata": {
    "scrolled": true
   },
   "outputs": [
    {
     "name": "stdout",
     "output_type": "stream",
     "text": [
      "CPU times: user 639 ms, sys: 75.1 ms, total: 714 ms\n",
      "Wall time: 6.01 s\n"
     ]
    }
   ],
   "source": [
    "%%time\n",
    "mk14_pd = mk14_human.toPandas()"
   ]
  },
  {
   "cell_type": "code",
   "execution_count": 8,
   "metadata": {},
   "outputs": [
    {
     "data": {
      "text/html": [
       "<div>\n",
       "<style scoped>\n",
       "    .dataframe tbody tr th:only-of-type {\n",
       "        vertical-align: middle;\n",
       "    }\n",
       "\n",
       "    .dataframe tbody tr th {\n",
       "        vertical-align: top;\n",
       "    }\n",
       "\n",
       "    .dataframe thead th {\n",
       "        text-align: right;\n",
       "    }\n",
       "</style>\n",
       "<table border=\"1\" class=\"dataframe\">\n",
       "  <thead>\n",
       "    <tr style=\"text-align: right;\">\n",
       "      <th></th>\n",
       "      <th>structureChainId</th>\n",
       "      <th>pdbResNum</th>\n",
       "      <th>pdbSeqNum</th>\n",
       "      <th>uniprotId</th>\n",
       "      <th>uniprotNum</th>\n",
       "    </tr>\n",
       "  </thead>\n",
       "  <tbody>\n",
       "    <tr>\n",
       "      <th>0</th>\n",
       "      <td>2ZB1.A</td>\n",
       "      <td>4</td>\n",
       "      <td>4</td>\n",
       "      <td>Q16539</td>\n",
       "      <td>4</td>\n",
       "    </tr>\n",
       "    <tr>\n",
       "      <th>1</th>\n",
       "      <td>2ZB1.A</td>\n",
       "      <td>5</td>\n",
       "      <td>5</td>\n",
       "      <td>Q16539</td>\n",
       "      <td>5</td>\n",
       "    </tr>\n",
       "    <tr>\n",
       "      <th>2</th>\n",
       "      <td>2ZB1.A</td>\n",
       "      <td>6</td>\n",
       "      <td>6</td>\n",
       "      <td>Q16539</td>\n",
       "      <td>6</td>\n",
       "    </tr>\n",
       "    <tr>\n",
       "      <th>3</th>\n",
       "      <td>2ZB1.A</td>\n",
       "      <td>7</td>\n",
       "      <td>7</td>\n",
       "      <td>Q16539</td>\n",
       "      <td>7</td>\n",
       "    </tr>\n",
       "    <tr>\n",
       "      <th>4</th>\n",
       "      <td>2ZB1.A</td>\n",
       "      <td>8</td>\n",
       "      <td>8</td>\n",
       "      <td>Q16539</td>\n",
       "      <td>8</td>\n",
       "    </tr>\n",
       "    <tr>\n",
       "      <th>5</th>\n",
       "      <td>2ZB1.A</td>\n",
       "      <td>9</td>\n",
       "      <td>9</td>\n",
       "      <td>Q16539</td>\n",
       "      <td>9</td>\n",
       "    </tr>\n",
       "    <tr>\n",
       "      <th>6</th>\n",
       "      <td>2ZB1.A</td>\n",
       "      <td>10</td>\n",
       "      <td>10</td>\n",
       "      <td>Q16539</td>\n",
       "      <td>10</td>\n",
       "    </tr>\n",
       "    <tr>\n",
       "      <th>7</th>\n",
       "      <td>2ZB1.A</td>\n",
       "      <td>11</td>\n",
       "      <td>11</td>\n",
       "      <td>Q16539</td>\n",
       "      <td>11</td>\n",
       "    </tr>\n",
       "    <tr>\n",
       "      <th>8</th>\n",
       "      <td>2ZB1.A</td>\n",
       "      <td>12</td>\n",
       "      <td>12</td>\n",
       "      <td>Q16539</td>\n",
       "      <td>12</td>\n",
       "    </tr>\n",
       "    <tr>\n",
       "      <th>9</th>\n",
       "      <td>2ZB1.A</td>\n",
       "      <td>13</td>\n",
       "      <td>13</td>\n",
       "      <td>Q16539</td>\n",
       "      <td>13</td>\n",
       "    </tr>\n",
       "    <tr>\n",
       "      <th>10</th>\n",
       "      <td>2ZB1.A</td>\n",
       "      <td>14</td>\n",
       "      <td>14</td>\n",
       "      <td>Q16539</td>\n",
       "      <td>14</td>\n",
       "    </tr>\n",
       "    <tr>\n",
       "      <th>11</th>\n",
       "      <td>2ZB1.A</td>\n",
       "      <td>15</td>\n",
       "      <td>15</td>\n",
       "      <td>Q16539</td>\n",
       "      <td>15</td>\n",
       "    </tr>\n",
       "    <tr>\n",
       "      <th>12</th>\n",
       "      <td>2ZB1.A</td>\n",
       "      <td>16</td>\n",
       "      <td>16</td>\n",
       "      <td>Q16539</td>\n",
       "      <td>16</td>\n",
       "    </tr>\n",
       "    <tr>\n",
       "      <th>13</th>\n",
       "      <td>2ZB1.A</td>\n",
       "      <td>17</td>\n",
       "      <td>17</td>\n",
       "      <td>Q16539</td>\n",
       "      <td>17</td>\n",
       "    </tr>\n",
       "    <tr>\n",
       "      <th>14</th>\n",
       "      <td>2ZB1.A</td>\n",
       "      <td>18</td>\n",
       "      <td>18</td>\n",
       "      <td>Q16539</td>\n",
       "      <td>18</td>\n",
       "    </tr>\n",
       "    <tr>\n",
       "      <th>15</th>\n",
       "      <td>2ZB1.A</td>\n",
       "      <td>19</td>\n",
       "      <td>19</td>\n",
       "      <td>Q16539</td>\n",
       "      <td>19</td>\n",
       "    </tr>\n",
       "    <tr>\n",
       "      <th>16</th>\n",
       "      <td>2ZB1.A</td>\n",
       "      <td>20</td>\n",
       "      <td>20</td>\n",
       "      <td>Q16539</td>\n",
       "      <td>20</td>\n",
       "    </tr>\n",
       "    <tr>\n",
       "      <th>17</th>\n",
       "      <td>2ZB1.A</td>\n",
       "      <td>21</td>\n",
       "      <td>21</td>\n",
       "      <td>Q16539</td>\n",
       "      <td>21</td>\n",
       "    </tr>\n",
       "    <tr>\n",
       "      <th>18</th>\n",
       "      <td>2ZB1.A</td>\n",
       "      <td>22</td>\n",
       "      <td>22</td>\n",
       "      <td>Q16539</td>\n",
       "      <td>22</td>\n",
       "    </tr>\n",
       "    <tr>\n",
       "      <th>19</th>\n",
       "      <td>2ZB1.A</td>\n",
       "      <td>23</td>\n",
       "      <td>23</td>\n",
       "      <td>Q16539</td>\n",
       "      <td>23</td>\n",
       "    </tr>\n",
       "  </tbody>\n",
       "</table>\n",
       "</div>"
      ],
      "text/plain": [
       "   structureChainId pdbResNum  pdbSeqNum uniprotId  uniprotNum\n",
       "0            2ZB1.A         4          4    Q16539           4\n",
       "1            2ZB1.A         5          5    Q16539           5\n",
       "2            2ZB1.A         6          6    Q16539           6\n",
       "3            2ZB1.A         7          7    Q16539           7\n",
       "4            2ZB1.A         8          8    Q16539           8\n",
       "5            2ZB1.A         9          9    Q16539           9\n",
       "6            2ZB1.A        10         10    Q16539          10\n",
       "7            2ZB1.A        11         11    Q16539          11\n",
       "8            2ZB1.A        12         12    Q16539          12\n",
       "9            2ZB1.A        13         13    Q16539          13\n",
       "10           2ZB1.A        14         14    Q16539          14\n",
       "11           2ZB1.A        15         15    Q16539          15\n",
       "12           2ZB1.A        16         16    Q16539          16\n",
       "13           2ZB1.A        17         17    Q16539          17\n",
       "14           2ZB1.A        18         18    Q16539          18\n",
       "15           2ZB1.A        19         19    Q16539          19\n",
       "16           2ZB1.A        20         20    Q16539          20\n",
       "17           2ZB1.A        21         21    Q16539          21\n",
       "18           2ZB1.A        22         22    Q16539          22\n",
       "19           2ZB1.A        23         23    Q16539          23"
      ]
     },
     "execution_count": 8,
     "metadata": {},
     "output_type": "execute_result"
    }
   ],
   "source": [
    "mk14_pd.head(20)"
   ]
  },
  {
   "cell_type": "code",
   "execution_count": 9,
   "metadata": {},
   "outputs": [],
   "source": [
    "spark.stop()"
   ]
  }
 ],
 "metadata": {
  "kernelspec": {
   "display_name": "Python 3",
   "language": "python",
   "name": "python3"
  },
  "language_info": {
   "codemirror_mode": {
    "name": "ipython",
    "version": 3
   },
   "file_extension": ".py",
   "mimetype": "text/x-python",
   "name": "python",
   "nbconvert_exporter": "python",
   "pygments_lexer": "ipython3",
   "version": "3.6.3"
  }
 },
 "nbformat": 4,
 "nbformat_minor": 2
}
