{
 "cells": [
  {
   "cell_type": "markdown",
   "metadata": {},
   "source": [
    "# Benchmark using Pandas dataframe\n",
    "This benchmark demostrates the efficiency of using columnar data formats. Here we run 3 benchmarks on the complete PDB to Uniprot residue-level mapping with a total of 105,594,955 records as of July 28, 2018.\n",
    "\n",
    "1. Count number of records\n",
    "2. Run a query\n",
    "3. Join datasets"
   ]
  },
  {
   "cell_type": "code",
   "execution_count": 1,
   "metadata": {},
   "outputs": [],
   "source": [
    "import pandas as pd"
   ]
  },
  {
   "cell_type": "code",
   "execution_count": 2,
   "metadata": {},
   "outputs": [],
   "source": [
    "import time\n",
    "start = time.time()"
   ]
  },
  {
   "cell_type": "markdown",
   "metadata": {},
   "source": [
    "# 1. Count number of records\n",
    "Read PDB to UniProt mapping file in the Parquet columnar data format (Pandas does not support the ORC format)."
   ]
  },
  {
   "cell_type": "code",
   "execution_count": 3,
   "metadata": {},
   "outputs": [
    {
     "name": "stdout",
     "output_type": "stream",
     "text": [
      "CPU times: user 48.9 s, sys: 20.6 s, total: 1min 9s\n",
      "Wall time: 1min 11s\n"
     ]
    }
   ],
   "source": [
    "%%time\n",
    "df = pd.read_parquet(\"../data/pdb2uniprot_residues.parquet.gzip\").dropna()\n",
    "df = df.astype({'uniprotNum': 'int32'})"
   ]
  },
  {
   "cell_type": "code",
   "execution_count": 4,
   "metadata": {
    "scrolled": true
   },
   "outputs": [
    {
     "name": "stdout",
     "output_type": "stream",
     "text": [
      "total number of records:  96162206\n",
      "CPU times: user 198 µs, sys: 62 µs, total: 260 µs\n",
      "Wall time: 217 µs\n"
     ]
    }
   ],
   "source": [
    "%%time\n",
    "print(\"total number of records: \", df.shape[0])"
   ]
  },
  {
   "cell_type": "code",
   "execution_count": 5,
   "metadata": {},
   "outputs": [
    {
     "data": {
      "text/html": [
       "<div>\n",
       "<style scoped>\n",
       "    .dataframe tbody tr th:only-of-type {\n",
       "        vertical-align: middle;\n",
       "    }\n",
       "\n",
       "    .dataframe tbody tr th {\n",
       "        vertical-align: top;\n",
       "    }\n",
       "\n",
       "    .dataframe thead th {\n",
       "        text-align: right;\n",
       "    }\n",
       "</style>\n",
       "<table border=\"1\" class=\"dataframe\">\n",
       "  <thead>\n",
       "    <tr style=\"text-align: right;\">\n",
       "      <th></th>\n",
       "      <th>structureChainId</th>\n",
       "      <th>pdbResNum</th>\n",
       "      <th>pdbSeqNum</th>\n",
       "      <th>uniprotId</th>\n",
       "      <th>uniprotNum</th>\n",
       "    </tr>\n",
       "  </thead>\n",
       "  <tbody>\n",
       "    <tr>\n",
       "      <th>0</th>\n",
       "      <td>1A5E.A</td>\n",
       "      <td>1</td>\n",
       "      <td>1</td>\n",
       "      <td>P42771</td>\n",
       "      <td>1</td>\n",
       "    </tr>\n",
       "    <tr>\n",
       "      <th>1</th>\n",
       "      <td>1A5E.A</td>\n",
       "      <td>2</td>\n",
       "      <td>2</td>\n",
       "      <td>P42771</td>\n",
       "      <td>2</td>\n",
       "    </tr>\n",
       "    <tr>\n",
       "      <th>2</th>\n",
       "      <td>1A5E.A</td>\n",
       "      <td>3</td>\n",
       "      <td>3</td>\n",
       "      <td>P42771</td>\n",
       "      <td>3</td>\n",
       "    </tr>\n",
       "    <tr>\n",
       "      <th>3</th>\n",
       "      <td>1A5E.A</td>\n",
       "      <td>4</td>\n",
       "      <td>4</td>\n",
       "      <td>P42771</td>\n",
       "      <td>4</td>\n",
       "    </tr>\n",
       "    <tr>\n",
       "      <th>4</th>\n",
       "      <td>1A5E.A</td>\n",
       "      <td>5</td>\n",
       "      <td>5</td>\n",
       "      <td>P42771</td>\n",
       "      <td>5</td>\n",
       "    </tr>\n",
       "  </tbody>\n",
       "</table>\n",
       "</div>"
      ],
      "text/plain": [
       "  structureChainId pdbResNum  pdbSeqNum uniprotId  uniprotNum\n",
       "0           1A5E.A         1          1    P42771           1\n",
       "1           1A5E.A         2          2    P42771           2\n",
       "2           1A5E.A         3          3    P42771           3\n",
       "3           1A5E.A         4          4    P42771           4\n",
       "4           1A5E.A         5          5    P42771           5"
      ]
     },
     "execution_count": 5,
     "metadata": {},
     "output_type": "execute_result"
    }
   ],
   "source": [
    "df.head()"
   ]
  },
  {
   "cell_type": "markdown",
   "metadata": {},
   "source": [
    "# 2. Run a query\n",
    "## Find Mitogen-activated protein kinase 14\n",
    "Here we run a query for PDB - UniProt mappings for UniProt ID Q16539 (MK14_HUMAN) and retrieve their residue-level mappings for residues that are observed in the PDB structure."
   ]
  },
  {
   "cell_type": "code",
   "execution_count": 6,
   "metadata": {
    "scrolled": true
   },
   "outputs": [
    {
     "name": "stdout",
     "output_type": "stream",
     "text": [
      "Number of distinct chains : 243\n",
      "Number of residue mappings: 82277\n",
      "CPU times: user 1.88 s, sys: 515 ms, total: 2.4 s\n",
      "Wall time: 2.42 s\n"
     ]
    }
   ],
   "source": [
    "%%time\n",
    "mk14_human = df.query(\"uniprotId == 'Q16539'\")\n",
    "\n",
    "print(\"Number of distinct chains :\", mk14_human['structureChainId'].nunique())\n",
    "print(\"Number of residue mappings:\", mk14_human.shape[0])"
   ]
  },
  {
   "cell_type": "code",
   "execution_count": 7,
   "metadata": {
    "scrolled": true
   },
   "outputs": [
    {
     "data": {
      "text/html": [
       "<div>\n",
       "<style scoped>\n",
       "    .dataframe tbody tr th:only-of-type {\n",
       "        vertical-align: middle;\n",
       "    }\n",
       "\n",
       "    .dataframe tbody tr th {\n",
       "        vertical-align: top;\n",
       "    }\n",
       "\n",
       "    .dataframe thead th {\n",
       "        text-align: right;\n",
       "    }\n",
       "</style>\n",
       "<table border=\"1\" class=\"dataframe\">\n",
       "  <thead>\n",
       "    <tr style=\"text-align: right;\">\n",
       "      <th></th>\n",
       "      <th>structureChainId</th>\n",
       "      <th>pdbResNum</th>\n",
       "      <th>pdbSeqNum</th>\n",
       "      <th>uniprotId</th>\n",
       "      <th>uniprotNum</th>\n",
       "    </tr>\n",
       "  </thead>\n",
       "  <tbody>\n",
       "    <tr>\n",
       "      <th>159186</th>\n",
       "      <td>2ZB1.A</td>\n",
       "      <td>4</td>\n",
       "      <td>4</td>\n",
       "      <td>Q16539</td>\n",
       "      <td>4</td>\n",
       "    </tr>\n",
       "    <tr>\n",
       "      <th>159187</th>\n",
       "      <td>2ZB1.A</td>\n",
       "      <td>5</td>\n",
       "      <td>5</td>\n",
       "      <td>Q16539</td>\n",
       "      <td>5</td>\n",
       "    </tr>\n",
       "    <tr>\n",
       "      <th>159188</th>\n",
       "      <td>2ZB1.A</td>\n",
       "      <td>6</td>\n",
       "      <td>6</td>\n",
       "      <td>Q16539</td>\n",
       "      <td>6</td>\n",
       "    </tr>\n",
       "    <tr>\n",
       "      <th>159189</th>\n",
       "      <td>2ZB1.A</td>\n",
       "      <td>7</td>\n",
       "      <td>7</td>\n",
       "      <td>Q16539</td>\n",
       "      <td>7</td>\n",
       "    </tr>\n",
       "    <tr>\n",
       "      <th>159190</th>\n",
       "      <td>2ZB1.A</td>\n",
       "      <td>8</td>\n",
       "      <td>8</td>\n",
       "      <td>Q16539</td>\n",
       "      <td>8</td>\n",
       "    </tr>\n",
       "  </tbody>\n",
       "</table>\n",
       "</div>"
      ],
      "text/plain": [
       "       structureChainId pdbResNum  pdbSeqNum uniprotId  uniprotNum\n",
       "159186           2ZB1.A         4          4    Q16539           4\n",
       "159187           2ZB1.A         5          5    Q16539           5\n",
       "159188           2ZB1.A         6          6    Q16539           6\n",
       "159189           2ZB1.A         7          7    Q16539           7\n",
       "159190           2ZB1.A         8          8    Q16539           8"
      ]
     },
     "execution_count": 7,
     "metadata": {},
     "output_type": "execute_result"
    }
   ],
   "source": [
    "mk14_human.head()"
   ]
  },
  {
   "cell_type": "markdown",
   "metadata": {},
   "source": [
    "# 3. Join operation"
   ]
  },
  {
   "cell_type": "code",
   "execution_count": 8,
   "metadata": {},
   "outputs": [
    {
     "name": "stdout",
     "output_type": "stream",
     "text": [
      "Sample size: 9429\n"
     ]
    },
    {
     "data": {
      "text/plain": [
       "16583128    4TNI.b\n",
       "27415911    1DZE.A\n",
       "90344974    2F2H.C\n",
       "12942022    2R0I.A\n",
       "98525621    4BBS.I\n",
       "Name: structureChainId, dtype: object"
      ]
     },
     "execution_count": 8,
     "metadata": {},
     "output_type": "execute_result"
    }
   ],
   "source": [
    "# create a random dataset of ~10,000 chains\n",
    "sample = df.sample(frac=0.0001, random_state=1)['structureChainId'].drop_duplicates()\n",
    "\n",
    "print(\"Sample size:\", sample.shape[0])\n",
    "sample.head()"
   ]
  },
  {
   "cell_type": "markdown",
   "metadata": {},
   "source": [
    "Now we use this sample dataset to run a database inner join for ~10,000 records"
   ]
  },
  {
   "cell_type": "code",
   "execution_count": 9,
   "metadata": {},
   "outputs": [
    {
     "name": "stdout",
     "output_type": "stream",
     "text": [
      "Number of residue in subset  3703322\n",
      "CPU times: user 5.57 s, sys: 1.06 s, total: 6.63 s\n",
      "Wall time: 6.73 s\n"
     ]
    }
   ],
   "source": [
    "%%time\n",
    "#subset = df.merge(sample, left_on='structureChainId', right_on='id').drop(columns='id')\n",
    "subset = df.merge(sample, on='structureChainId')\n",
    "print(\"Number of residue in subset \", subset.shape[0])"
   ]
  },
  {
   "cell_type": "code",
   "execution_count": 10,
   "metadata": {},
   "outputs": [
    {
     "data": {
      "text/html": [
       "<div>\n",
       "<style scoped>\n",
       "    .dataframe tbody tr th:only-of-type {\n",
       "        vertical-align: middle;\n",
       "    }\n",
       "\n",
       "    .dataframe tbody tr th {\n",
       "        vertical-align: top;\n",
       "    }\n",
       "\n",
       "    .dataframe thead th {\n",
       "        text-align: right;\n",
       "    }\n",
       "</style>\n",
       "<table border=\"1\" class=\"dataframe\">\n",
       "  <thead>\n",
       "    <tr style=\"text-align: right;\">\n",
       "      <th></th>\n",
       "      <th>structureChainId</th>\n",
       "      <th>pdbResNum</th>\n",
       "      <th>pdbSeqNum</th>\n",
       "      <th>uniprotId</th>\n",
       "      <th>uniprotNum</th>\n",
       "    </tr>\n",
       "  </thead>\n",
       "  <tbody>\n",
       "    <tr>\n",
       "      <th>0</th>\n",
       "      <td>1E7L.A</td>\n",
       "      <td>1</td>\n",
       "      <td>1</td>\n",
       "      <td>P13340</td>\n",
       "      <td>1</td>\n",
       "    </tr>\n",
       "    <tr>\n",
       "      <th>1</th>\n",
       "      <td>1E7L.A</td>\n",
       "      <td>2</td>\n",
       "      <td>2</td>\n",
       "      <td>P13340</td>\n",
       "      <td>2</td>\n",
       "    </tr>\n",
       "    <tr>\n",
       "      <th>2</th>\n",
       "      <td>1E7L.A</td>\n",
       "      <td>3</td>\n",
       "      <td>3</td>\n",
       "      <td>P13340</td>\n",
       "      <td>3</td>\n",
       "    </tr>\n",
       "    <tr>\n",
       "      <th>3</th>\n",
       "      <td>1E7L.A</td>\n",
       "      <td>4</td>\n",
       "      <td>4</td>\n",
       "      <td>P13340</td>\n",
       "      <td>4</td>\n",
       "    </tr>\n",
       "    <tr>\n",
       "      <th>4</th>\n",
       "      <td>1E7L.A</td>\n",
       "      <td>5</td>\n",
       "      <td>5</td>\n",
       "      <td>P13340</td>\n",
       "      <td>5</td>\n",
       "    </tr>\n",
       "  </tbody>\n",
       "</table>\n",
       "</div>"
      ],
      "text/plain": [
       "  structureChainId pdbResNum  pdbSeqNum uniprotId  uniprotNum\n",
       "0           1E7L.A         1          1    P13340           1\n",
       "1           1E7L.A         2          2    P13340           2\n",
       "2           1E7L.A         3          3    P13340           3\n",
       "3           1E7L.A         4          4    P13340           4\n",
       "4           1E7L.A         5          5    P13340           5"
      ]
     },
     "execution_count": 10,
     "metadata": {},
     "output_type": "execute_result"
    }
   ],
   "source": [
    "subset.head()"
   ]
  },
  {
   "cell_type": "code",
   "execution_count": 11,
   "metadata": {},
   "outputs": [
    {
     "name": "stdout",
     "output_type": "stream",
     "text": [
      "Pandas dataframe total time 87.95784878730774 sec.\n"
     ]
    }
   ],
   "source": [
    "end = time.time()\n",
    "print(\"Pandas dataframe total time\", end-start, \"sec.\")"
   ]
  },
  {
   "cell_type": "code",
   "execution_count": null,
   "metadata": {},
   "outputs": [],
   "source": [
    "%load_ext watermark\n",
    "%watermark "
   ]
  }
 ],
 "metadata": {
  "kernelspec": {
   "display_name": "Python [conda env:sifts-columnar] *",
   "language": "python",
   "name": "conda-env-sifts-columnar-py"
  },
  "language_info": {
   "codemirror_mode": {
    "name": "ipython",
    "version": 3
   },
   "file_extension": ".py",
   "mimetype": "text/x-python",
   "name": "python",
   "nbconvert_exporter": "python",
   "pygments_lexer": "ipython3",
   "version": "3.7.3"
  }
 },
 "nbformat": 4,
 "nbformat_minor": 4
}
