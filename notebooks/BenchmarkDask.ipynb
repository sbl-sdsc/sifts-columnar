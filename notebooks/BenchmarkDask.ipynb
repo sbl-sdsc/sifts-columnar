{
 "cells": [
  {
   "cell_type": "markdown",
   "metadata": {},
   "source": [
    "# Benchmark for Dask Dataframe\n",
    "This benchmark demostrates the efficiency of using columnar data formats. Here we run 3 benchmarks on the complete PDB to Uniprot residue-level mapping with a total of 105,594,955 records as of July 28, 2018.\n",
    "\n",
    "1. Count number of records\n",
    "2. Run a query\n",
    "3. Join datasets"
   ]
  },
  {
   "cell_type": "code",
   "execution_count": 1,
   "metadata": {},
   "outputs": [],
   "source": [
    "# set number of cores and thread per core\n",
    "cores = 2\n",
    "threads = 2"
   ]
  },
  {
   "cell_type": "code",
   "execution_count": 2,
   "metadata": {},
   "outputs": [],
   "source": [
    "import time\n",
    "start = time.time()"
   ]
  },
  {
   "cell_type": "markdown",
   "metadata": {},
   "source": [
    "## Setup Dask Client"
   ]
  },
  {
   "cell_type": "code",
   "execution_count": 3,
   "metadata": {},
   "outputs": [
    {
     "data": {
      "text/html": [
       "<table style=\"border: 2px solid white;\">\n",
       "<tr>\n",
       "<td style=\"vertical-align: top; border: 0px solid white\">\n",
       "<h3 style=\"text-align: left;\">Client</h3>\n",
       "<ul style=\"text-align: left; list-style: none; margin: 0; padding: 0;\">\n",
       "  <li><b>Scheduler: </b>tcp://127.0.0.1:59146</li>\n",
       "  <li><b>Dashboard: </b><a href='http://127.0.0.1:8787/status' target='_blank'>http://127.0.0.1:8787/status</a>\n",
       "</ul>\n",
       "</td>\n",
       "<td style=\"vertical-align: top; border: 0px solid white\">\n",
       "<h3 style=\"text-align: left;\">Cluster</h3>\n",
       "<ul style=\"text-align: left; list-style:none; margin: 0; padding: 0;\">\n",
       "  <li><b>Workers: </b>2</li>\n",
       "  <li><b>Cores: </b>4</li>\n",
       "  <li><b>Memory: </b>17.18 GB</li>\n",
       "</ul>\n",
       "</td>\n",
       "</tr>\n",
       "</table>"
      ],
      "text/plain": [
       "<Client: 'tcp://127.0.0.1:59146' processes=2 threads=4, memory=17.18 GB>"
      ]
     },
     "execution_count": 3,
     "metadata": {},
     "output_type": "execute_result"
    }
   ],
   "source": [
    "from dask.distributed import Client\n",
    "client = Client(n_workers=cores, threads_per_worker=threads, processes=True)\n",
    "client"
   ]
  },
  {
   "cell_type": "markdown",
   "metadata": {},
   "source": [
    "# 1. Count number of records\n",
    "Read PDB to UniProt mapping file in the ORC columnar data format."
   ]
  },
  {
   "cell_type": "code",
   "execution_count": 4,
   "metadata": {},
   "outputs": [
    {
     "data": {
      "text/html": [
       "<div><strong>Dask DataFrame Structure:</strong></div>\n",
       "<div>\n",
       "<style scoped>\n",
       "    .dataframe tbody tr th:only-of-type {\n",
       "        vertical-align: middle;\n",
       "    }\n",
       "\n",
       "    .dataframe tbody tr th {\n",
       "        vertical-align: top;\n",
       "    }\n",
       "\n",
       "    .dataframe thead th {\n",
       "        text-align: right;\n",
       "    }\n",
       "</style>\n",
       "<table border=\"1\" class=\"dataframe\">\n",
       "  <thead>\n",
       "    <tr style=\"text-align: right;\">\n",
       "      <th></th>\n",
       "      <th>structureChainId</th>\n",
       "      <th>pdbResNum</th>\n",
       "      <th>pdbSeqNum</th>\n",
       "      <th>uniprotId</th>\n",
       "      <th>uniprotNum</th>\n",
       "    </tr>\n",
       "    <tr>\n",
       "      <th>npartitions=20</th>\n",
       "      <th></th>\n",
       "      <th></th>\n",
       "      <th></th>\n",
       "      <th></th>\n",
       "      <th></th>\n",
       "    </tr>\n",
       "  </thead>\n",
       "  <tbody>\n",
       "    <tr>\n",
       "      <th></th>\n",
       "      <td>object</td>\n",
       "      <td>object</td>\n",
       "      <td>int32</td>\n",
       "      <td>object</td>\n",
       "      <td>int32</td>\n",
       "    </tr>\n",
       "    <tr>\n",
       "      <th></th>\n",
       "      <td>...</td>\n",
       "      <td>...</td>\n",
       "      <td>...</td>\n",
       "      <td>...</td>\n",
       "      <td>...</td>\n",
       "    </tr>\n",
       "    <tr>\n",
       "      <th>...</th>\n",
       "      <td>...</td>\n",
       "      <td>...</td>\n",
       "      <td>...</td>\n",
       "      <td>...</td>\n",
       "      <td>...</td>\n",
       "    </tr>\n",
       "    <tr>\n",
       "      <th></th>\n",
       "      <td>...</td>\n",
       "      <td>...</td>\n",
       "      <td>...</td>\n",
       "      <td>...</td>\n",
       "      <td>...</td>\n",
       "    </tr>\n",
       "    <tr>\n",
       "      <th></th>\n",
       "      <td>...</td>\n",
       "      <td>...</td>\n",
       "      <td>...</td>\n",
       "      <td>...</td>\n",
       "      <td>...</td>\n",
       "    </tr>\n",
       "  </tbody>\n",
       "</table>\n",
       "</div>\n",
       "<div>Dask Name: astype, 60 tasks</div>"
      ],
      "text/plain": [
       "Dask DataFrame Structure:\n",
       "               structureChainId pdbResNum pdbSeqNum uniprotId uniprotNum\n",
       "npartitions=20                                                          \n",
       "                         object    object     int32    object      int32\n",
       "                            ...       ...       ...       ...        ...\n",
       "...                         ...       ...       ...       ...        ...\n",
       "                            ...       ...       ...       ...        ...\n",
       "                            ...       ...       ...       ...        ...\n",
       "Dask Name: astype, 60 tasks"
      ]
     },
     "execution_count": 4,
     "metadata": {},
     "output_type": "execute_result"
    }
   ],
   "source": [
    "import dask.dataframe as dd\n",
    "\n",
    "df = dd.read_orc('../data/pdb2uniprot_residues.orc.lzo').dropna()\n",
    "df = df.astype({'uniprotNum': 'int32'})\n",
    "df"
   ]
  },
  {
   "cell_type": "code",
   "execution_count": 5,
   "metadata": {},
   "outputs": [
    {
     "name": "stdout",
     "output_type": "stream",
     "text": [
      "total number of records:  96162206\n",
      "CPU times: user 907 ms, sys: 93.1 ms, total: 1 s\n",
      "Wall time: 24 s\n"
     ]
    }
   ],
   "source": [
    "%%time\n",
    "print(\"total number of records: \", df.shape[0].compute())"
   ]
  },
  {
   "cell_type": "code",
   "execution_count": 6,
   "metadata": {},
   "outputs": [
    {
     "data": {
      "text/html": [
       "<div>\n",
       "<style scoped>\n",
       "    .dataframe tbody tr th:only-of-type {\n",
       "        vertical-align: middle;\n",
       "    }\n",
       "\n",
       "    .dataframe tbody tr th {\n",
       "        vertical-align: top;\n",
       "    }\n",
       "\n",
       "    .dataframe thead th {\n",
       "        text-align: right;\n",
       "    }\n",
       "</style>\n",
       "<table border=\"1\" class=\"dataframe\">\n",
       "  <thead>\n",
       "    <tr style=\"text-align: right;\">\n",
       "      <th></th>\n",
       "      <th>structureChainId</th>\n",
       "      <th>pdbResNum</th>\n",
       "      <th>pdbSeqNum</th>\n",
       "      <th>uniprotId</th>\n",
       "      <th>uniprotNum</th>\n",
       "    </tr>\n",
       "  </thead>\n",
       "  <tbody>\n",
       "    <tr>\n",
       "      <th>0</th>\n",
       "      <td>1A5E.A</td>\n",
       "      <td>1</td>\n",
       "      <td>1</td>\n",
       "      <td>P42771</td>\n",
       "      <td>1</td>\n",
       "    </tr>\n",
       "    <tr>\n",
       "      <th>1</th>\n",
       "      <td>1A5E.A</td>\n",
       "      <td>2</td>\n",
       "      <td>2</td>\n",
       "      <td>P42771</td>\n",
       "      <td>2</td>\n",
       "    </tr>\n",
       "    <tr>\n",
       "      <th>2</th>\n",
       "      <td>1A5E.A</td>\n",
       "      <td>3</td>\n",
       "      <td>3</td>\n",
       "      <td>P42771</td>\n",
       "      <td>3</td>\n",
       "    </tr>\n",
       "    <tr>\n",
       "      <th>3</th>\n",
       "      <td>1A5E.A</td>\n",
       "      <td>4</td>\n",
       "      <td>4</td>\n",
       "      <td>P42771</td>\n",
       "      <td>4</td>\n",
       "    </tr>\n",
       "    <tr>\n",
       "      <th>4</th>\n",
       "      <td>1A5E.A</td>\n",
       "      <td>5</td>\n",
       "      <td>5</td>\n",
       "      <td>P42771</td>\n",
       "      <td>5</td>\n",
       "    </tr>\n",
       "  </tbody>\n",
       "</table>\n",
       "</div>"
      ],
      "text/plain": [
       "  structureChainId pdbResNum  pdbSeqNum uniprotId  uniprotNum\n",
       "0           1A5E.A         1          1    P42771           1\n",
       "1           1A5E.A         2          2    P42771           2\n",
       "2           1A5E.A         3          3    P42771           3\n",
       "3           1A5E.A         4          4    P42771           4\n",
       "4           1A5E.A         5          5    P42771           5"
      ]
     },
     "execution_count": 6,
     "metadata": {},
     "output_type": "execute_result"
    }
   ],
   "source": [
    "df.head()"
   ]
  },
  {
   "cell_type": "markdown",
   "metadata": {},
   "source": [
    "# 2. Run a query\n",
    "## Find Mitogen-activated protein kinase 14\n",
    "Here we run a query for PDB - UniProt mappings for UniProt ID Q16539 (MK14_HUMAN) and retrieve their residue-level mappings for residues that are observed in the PDB structure."
   ]
  },
  {
   "cell_type": "code",
   "execution_count": 7,
   "metadata": {
    "scrolled": true
   },
   "outputs": [
    {
     "name": "stdout",
     "output_type": "stream",
     "text": [
      "Number of distinct chains : 243\n",
      "Number of residue mappings: 82277\n",
      "CPU times: user 1.13 s, sys: 120 ms, total: 1.25 s\n",
      "Wall time: 28.5 s\n"
     ]
    }
   ],
   "source": [
    "%%time\n",
    "mk14_human = df.query(\"uniprotId == 'Q16539'\").compute()\n",
    "\n",
    "print(\"Number of distinct chains :\", mk14_human['structureChainId'].nunique())\n",
    "print(\"Number of residue mappings:\", mk14_human.shape[0])"
   ]
  },
  {
   "cell_type": "code",
   "execution_count": 8,
   "metadata": {
    "scrolled": true
   },
   "outputs": [
    {
     "data": {
      "text/html": [
       "<div>\n",
       "<style scoped>\n",
       "    .dataframe tbody tr th:only-of-type {\n",
       "        vertical-align: middle;\n",
       "    }\n",
       "\n",
       "    .dataframe tbody tr th {\n",
       "        vertical-align: top;\n",
       "    }\n",
       "\n",
       "    .dataframe thead th {\n",
       "        text-align: right;\n",
       "    }\n",
       "</style>\n",
       "<table border=\"1\" class=\"dataframe\">\n",
       "  <thead>\n",
       "    <tr style=\"text-align: right;\">\n",
       "      <th></th>\n",
       "      <th>structureChainId</th>\n",
       "      <th>pdbResNum</th>\n",
       "      <th>pdbSeqNum</th>\n",
       "      <th>uniprotId</th>\n",
       "      <th>uniprotNum</th>\n",
       "    </tr>\n",
       "  </thead>\n",
       "  <tbody>\n",
       "    <tr>\n",
       "      <th>159186</th>\n",
       "      <td>2ZB1.A</td>\n",
       "      <td>4</td>\n",
       "      <td>4</td>\n",
       "      <td>Q16539</td>\n",
       "      <td>4</td>\n",
       "    </tr>\n",
       "    <tr>\n",
       "      <th>159187</th>\n",
       "      <td>2ZB1.A</td>\n",
       "      <td>5</td>\n",
       "      <td>5</td>\n",
       "      <td>Q16539</td>\n",
       "      <td>5</td>\n",
       "    </tr>\n",
       "    <tr>\n",
       "      <th>159188</th>\n",
       "      <td>2ZB1.A</td>\n",
       "      <td>6</td>\n",
       "      <td>6</td>\n",
       "      <td>Q16539</td>\n",
       "      <td>6</td>\n",
       "    </tr>\n",
       "    <tr>\n",
       "      <th>159189</th>\n",
       "      <td>2ZB1.A</td>\n",
       "      <td>7</td>\n",
       "      <td>7</td>\n",
       "      <td>Q16539</td>\n",
       "      <td>7</td>\n",
       "    </tr>\n",
       "    <tr>\n",
       "      <th>159190</th>\n",
       "      <td>2ZB1.A</td>\n",
       "      <td>8</td>\n",
       "      <td>8</td>\n",
       "      <td>Q16539</td>\n",
       "      <td>8</td>\n",
       "    </tr>\n",
       "  </tbody>\n",
       "</table>\n",
       "</div>"
      ],
      "text/plain": [
       "       structureChainId pdbResNum  pdbSeqNum uniprotId  uniprotNum\n",
       "159186           2ZB1.A         4          4    Q16539           4\n",
       "159187           2ZB1.A         5          5    Q16539           5\n",
       "159188           2ZB1.A         6          6    Q16539           6\n",
       "159189           2ZB1.A         7          7    Q16539           7\n",
       "159190           2ZB1.A         8          8    Q16539           8"
      ]
     },
     "execution_count": 8,
     "metadata": {},
     "output_type": "execute_result"
    }
   ],
   "source": [
    "mk14_human.head()"
   ]
  },
  {
   "cell_type": "markdown",
   "metadata": {},
   "source": [
    "# 3. Join operation"
   ]
  },
  {
   "cell_type": "code",
   "execution_count": 9,
   "metadata": {},
   "outputs": [
    {
     "name": "stdout",
     "output_type": "stream",
     "text": [
      "Sample size: 9425\n"
     ]
    },
    {
     "data": {
      "text/html": [
       "<div>\n",
       "<style scoped>\n",
       "    .dataframe tbody tr th:only-of-type {\n",
       "        vertical-align: middle;\n",
       "    }\n",
       "\n",
       "    .dataframe tbody tr th {\n",
       "        vertical-align: top;\n",
       "    }\n",
       "\n",
       "    .dataframe thead th {\n",
       "        text-align: right;\n",
       "    }\n",
       "</style>\n",
       "<table border=\"1\" class=\"dataframe\">\n",
       "  <thead>\n",
       "    <tr style=\"text-align: right;\">\n",
       "      <th></th>\n",
       "      <th>structureChainId</th>\n",
       "    </tr>\n",
       "  </thead>\n",
       "  <tbody>\n",
       "    <tr>\n",
       "      <th>4805020</th>\n",
       "      <td>4V88.Dn</td>\n",
       "    </tr>\n",
       "    <tr>\n",
       "      <th>1647933</th>\n",
       "      <td>5E17.D</td>\n",
       "    </tr>\n",
       "    <tr>\n",
       "      <th>2517021</th>\n",
       "      <td>3E1F.4</td>\n",
       "    </tr>\n",
       "    <tr>\n",
       "      <th>4575670</th>\n",
       "      <td>3JAM.L</td>\n",
       "    </tr>\n",
       "    <tr>\n",
       "      <th>3043930</th>\n",
       "      <td>5CDI.H</td>\n",
       "    </tr>\n",
       "  </tbody>\n",
       "</table>\n",
       "</div>"
      ],
      "text/plain": [
       "        structureChainId\n",
       "4805020          4V88.Dn\n",
       "1647933           5E17.D\n",
       "2517021           3E1F.4\n",
       "4575670           3JAM.L\n",
       "3043930           5CDI.H"
      ]
     },
     "execution_count": 9,
     "metadata": {},
     "output_type": "execute_result"
    }
   ],
   "source": [
    "# create a random dataset of ~10,000 chains\n",
    "sample = df.sample(frac=0.0001, random_state=1)['structureChainId'].drop_duplicates().to_frame().compute()\n",
    "\n",
    "print(\"Sample size:\", sample.shape[0])\n",
    "sample.head()"
   ]
  },
  {
   "cell_type": "markdown",
   "metadata": {},
   "source": [
    "Now we use this sample dataset to run a database inner join for ~10,000 records"
   ]
  },
  {
   "cell_type": "code",
   "execution_count": 10,
   "metadata": {},
   "outputs": [
    {
     "name": "stdout",
     "output_type": "stream",
     "text": [
      "Number of residue in subset  3706634\n",
      "CPU times: user 1.25 s, sys: 123 ms, total: 1.37 s\n",
      "Wall time: 29.5 s\n"
     ]
    }
   ],
   "source": [
    "%%time\n",
    "subset = df.merge(sample, on='structureChainId')\n",
    "print(\"Number of residue in subset \", subset.shape[0].compute())"
   ]
  },
  {
   "cell_type": "code",
   "execution_count": 11,
   "metadata": {},
   "outputs": [
    {
     "data": {
      "text/html": [
       "<div>\n",
       "<style scoped>\n",
       "    .dataframe tbody tr th:only-of-type {\n",
       "        vertical-align: middle;\n",
       "    }\n",
       "\n",
       "    .dataframe tbody tr th {\n",
       "        vertical-align: top;\n",
       "    }\n",
       "\n",
       "    .dataframe thead th {\n",
       "        text-align: right;\n",
       "    }\n",
       "</style>\n",
       "<table border=\"1\" class=\"dataframe\">\n",
       "  <thead>\n",
       "    <tr style=\"text-align: right;\">\n",
       "      <th></th>\n",
       "      <th>structureChainId</th>\n",
       "      <th>pdbResNum</th>\n",
       "      <th>pdbSeqNum</th>\n",
       "      <th>uniprotId</th>\n",
       "      <th>uniprotNum</th>\n",
       "    </tr>\n",
       "  </thead>\n",
       "  <tbody>\n",
       "    <tr>\n",
       "      <th>0</th>\n",
       "      <td>1CSO.E</td>\n",
       "      <td>16</td>\n",
       "      <td>1</td>\n",
       "      <td>P00777</td>\n",
       "      <td>115</td>\n",
       "    </tr>\n",
       "    <tr>\n",
       "      <th>1</th>\n",
       "      <td>1CSO.E</td>\n",
       "      <td>17</td>\n",
       "      <td>2</td>\n",
       "      <td>P00777</td>\n",
       "      <td>116</td>\n",
       "    </tr>\n",
       "    <tr>\n",
       "      <th>2</th>\n",
       "      <td>1CSO.E</td>\n",
       "      <td>18</td>\n",
       "      <td>3</td>\n",
       "      <td>P00777</td>\n",
       "      <td>117</td>\n",
       "    </tr>\n",
       "    <tr>\n",
       "      <th>3</th>\n",
       "      <td>1CSO.E</td>\n",
       "      <td>19</td>\n",
       "      <td>4</td>\n",
       "      <td>P00777</td>\n",
       "      <td>118</td>\n",
       "    </tr>\n",
       "    <tr>\n",
       "      <th>4</th>\n",
       "      <td>1CSO.E</td>\n",
       "      <td>29</td>\n",
       "      <td>5</td>\n",
       "      <td>P00777</td>\n",
       "      <td>119</td>\n",
       "    </tr>\n",
       "  </tbody>\n",
       "</table>\n",
       "</div>"
      ],
      "text/plain": [
       "  structureChainId pdbResNum  pdbSeqNum uniprotId  uniprotNum\n",
       "0           1CSO.E        16          1    P00777         115\n",
       "1           1CSO.E        17          2    P00777         116\n",
       "2           1CSO.E        18          3    P00777         117\n",
       "3           1CSO.E        19          4    P00777         118\n",
       "4           1CSO.E        29          5    P00777         119"
      ]
     },
     "execution_count": 11,
     "metadata": {},
     "output_type": "execute_result"
    }
   ],
   "source": [
    "subset.head()"
   ]
  },
  {
   "cell_type": "code",
   "execution_count": 12,
   "metadata": {},
   "outputs": [
    {
     "name": "stdout",
     "output_type": "stream",
     "text": [
      "Dask dataframe total time 118.05193066596985 sec.\n"
     ]
    }
   ],
   "source": [
    "end = time.time()\n",
    "print(\"Dask dataframe total time\", end-start, \"sec.\")"
   ]
  },
  {
   "cell_type": "code",
   "execution_count": null,
   "metadata": {},
   "outputs": [],
   "source": [
    "%load_ext watermark\n",
    "%watermark "
   ]
  }
 ],
 "metadata": {
  "kernelspec": {
   "display_name": "Python [conda env:sifts-columnar] *",
   "language": "python",
   "name": "conda-env-sifts-columnar-py"
  },
  "language_info": {
   "codemirror_mode": {
    "name": "ipython",
    "version": 3
   },
   "file_extension": ".py",
   "mimetype": "text/x-python",
   "name": "python",
   "nbconvert_exporter": "python",
   "pygments_lexer": "ipython3",
   "version": "3.7.3"
  }
 },
 "nbformat": 4,
 "nbformat_minor": 4
}
