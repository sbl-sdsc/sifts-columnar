{
 "cells": [
  {
   "cell_type": "markdown",
   "metadata": {},
   "source": [
    "# Reading Benchmark"
   ]
  },
  {
   "cell_type": "markdown",
   "metadata": {},
   "source": [
    "## Pandas - parquet.gzip format"
   ]
  },
  {
   "cell_type": "code",
   "execution_count": 1,
   "metadata": {
    "scrolled": true
   },
   "outputs": [
    {
     "name": "stderr",
     "output_type": "stream",
     "text": [
      "/Users/peter/anaconda3/lib/python3.6/importlib/_bootstrap.py:219: RuntimeWarning: numpy.dtype size changed, may indicate binary incompatibility. Expected 96, got 88\n",
      "  return f(*args, **kwds)\n",
      "/Users/peter/anaconda3/lib/python3.6/importlib/_bootstrap.py:219: RuntimeWarning: numpy.dtype size changed, may indicate binary incompatibility. Expected 96, got 88\n",
      "  return f(*args, **kwds)\n"
     ]
    }
   ],
   "source": [
    "import pyarrow\n",
    "import pandas as pd"
   ]
  },
  {
   "cell_type": "code",
   "execution_count": 2,
   "metadata": {},
   "outputs": [
    {
     "name": "stdout",
     "output_type": "stream",
     "text": [
      "Number of rows: 105594971\n",
      "CPU times: user 1min 1s, sys: 21.8 s, total: 1min 23s\n",
      "Wall time: 1min 26s\n"
     ]
    }
   ],
   "source": [
    "%%time\n",
    "df = pd.read_parquet(\"./data/pdb2uniprot_residues.parquet.gzip\", engine='pyarrow')\n",
    "print(\"Number of rows: \" + str(df.shape[0]))"
   ]
  },
  {
   "cell_type": "code",
   "execution_count": 3,
   "metadata": {},
   "outputs": [
    {
     "data": {
      "text/html": [
       "<div>\n",
       "<style scoped>\n",
       "    .dataframe tbody tr th:only-of-type {\n",
       "        vertical-align: middle;\n",
       "    }\n",
       "\n",
       "    .dataframe tbody tr th {\n",
       "        vertical-align: top;\n",
       "    }\n",
       "\n",
       "    .dataframe thead th {\n",
       "        text-align: right;\n",
       "    }\n",
       "</style>\n",
       "<table border=\"1\" class=\"dataframe\">\n",
       "  <thead>\n",
       "    <tr style=\"text-align: right;\">\n",
       "      <th></th>\n",
       "      <th>structureChainId</th>\n",
       "      <th>pdbResNum</th>\n",
       "      <th>pdbSeqNum</th>\n",
       "      <th>uniprotId</th>\n",
       "      <th>uniprotNum</th>\n",
       "    </tr>\n",
       "  </thead>\n",
       "  <tbody>\n",
       "    <tr>\n",
       "      <th>0</th>\n",
       "      <td>5HZA.B</td>\n",
       "      <td>454</td>\n",
       "      <td>231</td>\n",
       "      <td>Q5F4T5</td>\n",
       "      <td>454</td>\n",
       "    </tr>\n",
       "    <tr>\n",
       "      <th>1</th>\n",
       "      <td>5HZA.B</td>\n",
       "      <td>455</td>\n",
       "      <td>232</td>\n",
       "      <td>Q5F4T5</td>\n",
       "      <td>455</td>\n",
       "    </tr>\n",
       "    <tr>\n",
       "      <th>2</th>\n",
       "      <td>5HZA.B</td>\n",
       "      <td>456</td>\n",
       "      <td>233</td>\n",
       "      <td>Q5F4T5</td>\n",
       "      <td>456</td>\n",
       "    </tr>\n",
       "    <tr>\n",
       "      <th>3</th>\n",
       "      <td>5HZA.B</td>\n",
       "      <td>457</td>\n",
       "      <td>234</td>\n",
       "      <td>Q5F4T5</td>\n",
       "      <td>457</td>\n",
       "    </tr>\n",
       "    <tr>\n",
       "      <th>4</th>\n",
       "      <td>5HZA.B</td>\n",
       "      <td>458</td>\n",
       "      <td>235</td>\n",
       "      <td>Q5F4T5</td>\n",
       "      <td>458</td>\n",
       "    </tr>\n",
       "  </tbody>\n",
       "</table>\n",
       "</div>"
      ],
      "text/plain": [
       "  structureChainId pdbResNum pdbSeqNum uniprotId uniprotNum\n",
       "0           5HZA.B       454       231    Q5F4T5        454\n",
       "1           5HZA.B       455       232    Q5F4T5        455\n",
       "2           5HZA.B       456       233    Q5F4T5        456\n",
       "3           5HZA.B       457       234    Q5F4T5        457\n",
       "4           5HZA.B       458       235    Q5F4T5        458"
      ]
     },
     "execution_count": 3,
     "metadata": {},
     "output_type": "execute_result"
    }
   ],
   "source": [
    "df.head()"
   ]
  },
  {
   "cell_type": "markdown",
   "metadata": {},
   "source": [
    "## PySpark - parquet.gzip format"
   ]
  },
  {
   "cell_type": "code",
   "execution_count": 4,
   "metadata": {},
   "outputs": [],
   "source": [
    "from pyspark.sql import SparkSession"
   ]
  },
  {
   "cell_type": "code",
   "execution_count": 5,
   "metadata": {},
   "outputs": [],
   "source": [
    "spark = SparkSession.builder.master(\"local[*]\").appName(\"Benchmark\").getOrCreate()"
   ]
  },
  {
   "cell_type": "code",
   "execution_count": 6,
   "metadata": {},
   "outputs": [
    {
     "name": "stdout",
     "output_type": "stream",
     "text": [
      "Number of rows: 105594971\n",
      "CPU times: user 17.2 ms, sys: 12.9 ms, total: 30.1 ms\n",
      "Wall time: 2min 54s\n"
     ]
    }
   ],
   "source": [
    "%%time\n",
    "ds = spark.read.parquet(\"./data/pdb2uniprot_residues.parquet.gzip\").cache()\n",
    "print(\"Number of rows: \" + str(ds.count()))"
   ]
  },
  {
   "cell_type": "code",
   "execution_count": 7,
   "metadata": {},
   "outputs": [
    {
     "name": "stdout",
     "output_type": "stream",
     "text": [
      "+----------------+---------+---------+---------+----------+\n",
      "|structureChainId|pdbResNum|pdbSeqNum|uniprotId|uniprotNum|\n",
      "+----------------+---------+---------+---------+----------+\n",
      "|          5HZA.B|      454|      231|   Q5F4T5|       454|\n",
      "|          5HZA.B|      455|      232|   Q5F4T5|       455|\n",
      "|          5HZA.B|      456|      233|   Q5F4T5|       456|\n",
      "|          5HZA.B|      457|      234|   Q5F4T5|       457|\n",
      "|          5HZA.B|      458|      235|   Q5F4T5|       458|\n",
      "+----------------+---------+---------+---------+----------+\n",
      "only showing top 5 rows\n",
      "\n"
     ]
    }
   ],
   "source": [
    "ds.show(5)"
   ]
  },
  {
   "cell_type": "code",
   "execution_count": 8,
   "metadata": {},
   "outputs": [],
   "source": [
    "spark.stop()"
   ]
  },
  {
   "cell_type": "markdown",
   "metadata": {},
   "source": [
    "## PySpark - orc.lzo format"
   ]
  },
  {
   "cell_type": "code",
   "execution_count": 9,
   "metadata": {},
   "outputs": [],
   "source": [
    "from pyspark.sql import SparkSession"
   ]
  },
  {
   "cell_type": "code",
   "execution_count": 10,
   "metadata": {},
   "outputs": [],
   "source": [
    "spark = SparkSession.builder.master(\"local[*]\").appName(\"Benchmark\").getOrCreate()\n",
    "spark.conf.set(\"spark.sql.orc.impl\", \"native\")\n",
    "spark.conf.set(\"spark.sql.orc.enableVectorizedReader\", True)"
   ]
  },
  {
   "cell_type": "code",
   "execution_count": 11,
   "metadata": {},
   "outputs": [
    {
     "name": "stdout",
     "output_type": "stream",
     "text": [
      "Number of rows: 105594971\n",
      "CPU times: user 9.68 ms, sys: 6.99 ms, total: 16.7 ms\n",
      "Wall time: 1min 25s\n"
     ]
    }
   ],
   "source": [
    "%%time\n",
    "ds = spark.read.orc(\"./data/pdb2uniprot_residues.orc.lzo\").cache()\n",
    "print(\"Number of rows: \" + str(ds.count()))"
   ]
  },
  {
   "cell_type": "code",
   "execution_count": 12,
   "metadata": {},
   "outputs": [
    {
     "name": "stdout",
     "output_type": "stream",
     "text": [
      "+----------------+---------+---------+---------+----------+\n",
      "|structureChainId|pdbResNum|pdbSeqNum|uniprotId|uniprotNum|\n",
      "+----------------+---------+---------+---------+----------+\n",
      "|          5HZA.B|      454|      231|   Q5F4T5|       454|\n",
      "|          5HZA.B|      455|      232|   Q5F4T5|       455|\n",
      "|          5HZA.B|      456|      233|   Q5F4T5|       456|\n",
      "|          5HZA.B|      457|      234|   Q5F4T5|       457|\n",
      "|          5HZA.B|      458|      235|   Q5F4T5|       458|\n",
      "+----------------+---------+---------+---------+----------+\n",
      "only showing top 5 rows\n",
      "\n"
     ]
    }
   ],
   "source": [
    "ds.show(5)"
   ]
  },
  {
   "cell_type": "code",
   "execution_count": 13,
   "metadata": {},
   "outputs": [],
   "source": [
    "spark.stop()"
   ]
  }
 ],
 "metadata": {
  "kernelspec": {
   "display_name": "Python 3",
   "language": "python",
   "name": "python3"
  },
  "language_info": {
   "codemirror_mode": {
    "name": "ipython",
    "version": 3
   },
   "file_extension": ".py",
   "mimetype": "text/x-python",
   "name": "python",
   "nbconvert_exporter": "python",
   "pygments_lexer": "ipython3",
   "version": "3.6.3"
  }
 },
 "nbformat": 4,
 "nbformat_minor": 2
}
